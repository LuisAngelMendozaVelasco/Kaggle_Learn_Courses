{
 "cells": [
  {
   "cell_type": "markdown",
   "id": "94e0dc8d",
   "metadata": {
    "papermill": {
     "duration": 0.004678,
     "end_time": "2023-01-27T16:44:24.739545",
     "exception": false,
     "start_time": "2023-01-27T16:44:24.734867",
     "status": "completed"
    },
    "tags": []
   },
   "source": [
    "# Partial Dependence Plots\n",
    "\n",
    "While feature importance shows what variables most affect predictions, partial dependence plots show *how* a feature affects predictions.\n",
    "\n",
    "This is useful to answer questions like:\n",
    "\n",
    "* Controlling for all other house features, what impact do longitude and latitude have on home prices? To restate this, how would similarly sized houses be priced in different areas?\n",
    "\n",
    "* Are predicted health differences between two groups due to differences in their diets, or due to some other factor?\n",
    "\n",
    "If you are familiar with linear or logistic regression models, partial dependence plots can be interpreted similarly to the coefficients in those models.  Though, partial dependence plots on sophisticated models can capture more complex patterns than coefficients from simple models.  If you aren't familiar with linear or logistic regressions, don't worry about this comparison.\n",
    "\n",
    "We will show a couple examples, explain the interpretation of these plots, and then review the code to create these plots.\n",
    "\n",
    "# How it Works\n",
    "\n",
    "Like permutation importance, **partial dependence plots are calculated after a model has been fit.**  The model is fit on real data that has not been artificially manipulated in any way.  \n",
    "\n",
    "In our soccer example, teams may differ in many ways. How many passes they made, shots they took, goals they scored, etc. At first glance, it seems difficult to disentangle the effect of these features.\n",
    "\n",
    "To see how partial plots separate out the effect of each feature, we start by considering a single row of data. For example, that row of data might represent a team that had the ball 50% of the time, made 100 passes, took 10 shots and scored 1 goal.\n",
    "\n",
    "We will use the fitted model to predict our outcome (probability their player won \"man of the match\"). But we **repeatedly alter the value for one variable** to make a series of predictions.  We could predict the outcome if the team had the ball only 40% of the time. We then predict with them having the ball 50% of the time.  Then predict again for 60%.  And so on.  We trace out predicted outcomes (on the vertical axis) as we move from small values of ball possession to large values (on the horizontal axis).\n",
    "\n",
    "In this description, we used only a single row of data.  Interactions between features may cause the plot for a single row to be atypical.  So, we repeat that mental experiment with multiple rows from the original dataset, and we plot the average predicted outcome on the vertical axis.  \n",
    "\n",
    "# Code Example\n",
    "\n",
    "Model building isn't our focus, so we won't focus on the data exploration or model building code."
   ]
  },
  {
   "cell_type": "code",
   "execution_count": 1,
   "id": "c9a03fc6",
   "metadata": {
    "execution": {
     "iopub.execute_input": "2023-01-27T16:44:24.749256Z",
     "iopub.status.busy": "2023-01-27T16:44:24.748591Z",
     "iopub.status.idle": "2023-01-27T16:44:26.148562Z",
     "shell.execute_reply": "2023-01-27T16:44:26.147220Z"
    },
    "papermill": {
     "duration": 1.408016,
     "end_time": "2023-01-27T16:44:26.151357",
     "exception": false,
     "start_time": "2023-01-27T16:44:24.743341",
     "status": "completed"
    },
    "tags": []
   },
   "outputs": [],
   "source": [
    "import numpy as np\n",
    "import pandas as pd\n",
    "from sklearn.model_selection import train_test_split\n",
    "from sklearn.ensemble import RandomForestClassifier\n",
    "from sklearn.tree import DecisionTreeClassifier\n",
    "import seaborn as sns\n",
    "\n",
    "sns.set_style(\"whitegrid\")\n",
    "data = pd.read_csv('data/FIFA 2018 Statistics.csv')\n",
    "y = (data['Man of the Match'] == \"Yes\")  # Convert from string \"Yes\"/\"No\" to binary\n",
    "feature_names = [i for i in data.columns if data[i].dtype in [np.int64]]\n",
    "X = data[feature_names]\n",
    "train_X, val_X, train_y, val_y = train_test_split(X, y, random_state=1)\n",
    "tree_model = DecisionTreeClassifier(random_state=0, max_depth=5, min_samples_split=5).fit(train_X, train_y)"
   ]
  },
  {
   "cell_type": "markdown",
   "id": "26de9974",
   "metadata": {
    "papermill": {
     "duration": 0.003524,
     "end_time": "2023-01-27T16:44:26.160172",
     "exception": false,
     "start_time": "2023-01-27T16:44:26.156648",
     "status": "completed"
    },
    "tags": []
   },
   "source": [
    "Our first example uses a decision tree, which you can see below. In practice, you'll use more sophistated models for real-world applications."
   ]
  },
  {
   "cell_type": "code",
   "execution_count": 2,
   "id": "428b901f",
   "metadata": {
    "execution": {
     "iopub.execute_input": "2023-01-27T16:44:26.169143Z",
     "iopub.status.busy": "2023-01-27T16:44:26.168663Z",
     "iopub.status.idle": "2023-01-27T16:44:27.273319Z",
     "shell.execute_reply": "2023-01-27T16:44:27.271536Z"
    },
    "papermill": {
     "duration": 1.114061,
     "end_time": "2023-01-27T16:44:27.277749",
     "exception": false,
     "start_time": "2023-01-27T16:44:26.163688",
     "status": "completed"
    },
    "tags": []
   },
   "outputs": [
    {
     "data": {
      "image/svg+xml": "<?xml version=\"1.0\" encoding=\"UTF-8\" standalone=\"no\"?>\n<!DOCTYPE svg PUBLIC \"-//W3C//DTD SVG 1.1//EN\"\n \"http://www.w3.org/Graphics/SVG/1.1/DTD/svg11.dtd\">\n<!-- Generated by graphviz version 5.0.0 (20220707.2338)\n -->\n<!-- Title: Tree Pages: 1 -->\n<svg width=\"972pt\" height=\"581pt\"\n viewBox=\"0.00 0.00 972.00 581.00\" xmlns=\"http://www.w3.org/2000/svg\" xmlns:xlink=\"http://www.w3.org/1999/xlink\">\n<g id=\"graph0\" class=\"graph\" transform=\"scale(1 1) rotate(0) translate(4 577)\">\n<title>Tree</title>\n<polygon fill=\"white\" stroke=\"transparent\" points=\"-4,4 -4,-577 968,-577 968,4 -4,4\"/>\n<!-- 0 -->\n<g id=\"node1\" class=\"node\">\n<title>0</title>\n<polygon fill=\"none\" stroke=\"black\" points=\"452.5,-573 297.5,-573 297.5,-505 452.5,-505 452.5,-573\"/>\n<text text-anchor=\"middle\" x=\"375\" y=\"-557.8\" font-family=\"Helvetica,sans-Serif\" font-size=\"14.00\">Goal Scored &lt;= 0.5</text>\n<text text-anchor=\"middle\" x=\"375\" y=\"-542.8\" font-family=\"Helvetica,sans-Serif\" font-size=\"14.00\">gini = 0.5</text>\n<text text-anchor=\"middle\" x=\"375\" y=\"-527.8\" font-family=\"Helvetica,sans-Serif\" font-size=\"14.00\">samples = 96</text>\n<text text-anchor=\"middle\" x=\"375\" y=\"-512.8\" font-family=\"Helvetica,sans-Serif\" font-size=\"14.00\">value = [48, 48]</text>\n</g>\n<!-- 1 -->\n<g id=\"node2\" class=\"node\">\n<title>1</title>\n<polygon fill=\"none\" stroke=\"black\" points=\"365,-469 227,-469 227,-401 365,-401 365,-469\"/>\n<text text-anchor=\"middle\" x=\"296\" y=\"-453.8\" font-family=\"Helvetica,sans-Serif\" font-size=\"14.00\">On&#45;Target &lt;= 7.5</text>\n<text text-anchor=\"middle\" x=\"296\" y=\"-438.8\" font-family=\"Helvetica,sans-Serif\" font-size=\"14.00\">gini = 0.142</text>\n<text text-anchor=\"middle\" x=\"296\" y=\"-423.8\" font-family=\"Helvetica,sans-Serif\" font-size=\"14.00\">samples = 26</text>\n<text text-anchor=\"middle\" x=\"296\" y=\"-408.8\" font-family=\"Helvetica,sans-Serif\" font-size=\"14.00\">value = [24, 2]</text>\n</g>\n<!-- 0&#45;&gt;1 -->\n<g id=\"edge1\" class=\"edge\">\n<title>0&#45;&gt;1</title>\n<path fill=\"none\" stroke=\"black\" d=\"M349.35,-504.88C342.52,-496.07 335.06,-486.43 327.94,-477.24\"/>\n<polygon fill=\"black\" stroke=\"black\" points=\"330.68,-475.06 321.79,-469.3 325.15,-479.35 330.68,-475.06\"/>\n<text text-anchor=\"middle\" x=\"318.64\" y=\"-490.4\" font-family=\"Helvetica,sans-Serif\" font-size=\"14.00\">True</text>\n</g>\n<!-- 6 -->\n<g id=\"node7\" class=\"node\">\n<title>6</title>\n<polygon fill=\"none\" stroke=\"black\" points=\"527,-469 383,-469 383,-401 527,-401 527,-469\"/>\n<text text-anchor=\"middle\" x=\"455\" y=\"-453.8\" font-family=\"Helvetica,sans-Serif\" font-size=\"14.00\">Attempts &lt;= 24.0</text>\n<text text-anchor=\"middle\" x=\"455\" y=\"-438.8\" font-family=\"Helvetica,sans-Serif\" font-size=\"14.00\">gini = 0.451</text>\n<text text-anchor=\"middle\" x=\"455\" y=\"-423.8\" font-family=\"Helvetica,sans-Serif\" font-size=\"14.00\">samples = 70</text>\n<text text-anchor=\"middle\" x=\"455\" y=\"-408.8\" font-family=\"Helvetica,sans-Serif\" font-size=\"14.00\">value = [24, 46]</text>\n</g>\n<!-- 0&#45;&gt;6 -->\n<g id=\"edge6\" class=\"edge\">\n<title>0&#45;&gt;6</title>\n<path fill=\"none\" stroke=\"black\" d=\"M400.97,-504.88C407.89,-496.07 415.45,-486.43 422.66,-477.24\"/>\n<polygon fill=\"black\" stroke=\"black\" points=\"425.47,-479.33 428.88,-469.3 419.96,-475.01 425.47,-479.33\"/>\n<text text-anchor=\"middle\" x=\"431.88\" y=\"-490.42\" font-family=\"Helvetica,sans-Serif\" font-size=\"14.00\">False</text>\n</g>\n<!-- 2 -->\n<g id=\"node3\" class=\"node\">\n<title>2</title>\n<polygon fill=\"none\" stroke=\"black\" points=\"226.5,-365 89.5,-365 89.5,-297 226.5,-297 226.5,-365\"/>\n<text text-anchor=\"middle\" x=\"158\" y=\"-349.8\" font-family=\"Helvetica,sans-Serif\" font-size=\"14.00\">Passes &lt;= 634.0</text>\n<text text-anchor=\"middle\" x=\"158\" y=\"-334.8\" font-family=\"Helvetica,sans-Serif\" font-size=\"14.00\">gini = 0.077</text>\n<text text-anchor=\"middle\" x=\"158\" y=\"-319.8\" font-family=\"Helvetica,sans-Serif\" font-size=\"14.00\">samples = 25</text>\n<text text-anchor=\"middle\" x=\"158\" y=\"-304.8\" font-family=\"Helvetica,sans-Serif\" font-size=\"14.00\">value = [24, 1]</text>\n</g>\n<!-- 1&#45;&gt;2 -->\n<g id=\"edge2\" class=\"edge\">\n<title>1&#45;&gt;2</title>\n<path fill=\"none\" stroke=\"black\" d=\"M251.2,-400.88C238.42,-391.44 224.38,-381.06 211.16,-371.29\"/>\n<polygon fill=\"black\" stroke=\"black\" points=\"213.17,-368.43 203.05,-365.3 209.01,-374.06 213.17,-368.43\"/>\n</g>\n<!-- 5 -->\n<g id=\"node6\" class=\"node\">\n<title>5</title>\n<polygon fill=\"none\" stroke=\"black\" points=\"357.5,-357.5 244.5,-357.5 244.5,-304.5 357.5,-304.5 357.5,-357.5\"/>\n<text text-anchor=\"middle\" x=\"301\" y=\"-342.3\" font-family=\"Helvetica,sans-Serif\" font-size=\"14.00\">gini = 0.0</text>\n<text text-anchor=\"middle\" x=\"301\" y=\"-327.3\" font-family=\"Helvetica,sans-Serif\" font-size=\"14.00\">samples = 1</text>\n<text text-anchor=\"middle\" x=\"301\" y=\"-312.3\" font-family=\"Helvetica,sans-Serif\" font-size=\"14.00\">value = [0, 1]</text>\n</g>\n<!-- 1&#45;&gt;5 -->\n<g id=\"edge5\" class=\"edge\">\n<title>1&#45;&gt;5</title>\n<path fill=\"none\" stroke=\"black\" d=\"M297.62,-400.88C298.15,-390.22 298.73,-378.35 299.26,-367.52\"/>\n<polygon fill=\"black\" stroke=\"black\" points=\"302.76,-367.68 299.75,-357.52 295.76,-367.34 302.76,-367.68\"/>\n</g>\n<!-- 3 -->\n<g id=\"node4\" class=\"node\">\n<title>3</title>\n<polygon fill=\"none\" stroke=\"black\" points=\"122,-253.5 0,-253.5 0,-200.5 122,-200.5 122,-253.5\"/>\n<text text-anchor=\"middle\" x=\"61\" y=\"-238.3\" font-family=\"Helvetica,sans-Serif\" font-size=\"14.00\">gini = 0.0</text>\n<text text-anchor=\"middle\" x=\"61\" y=\"-223.3\" font-family=\"Helvetica,sans-Serif\" font-size=\"14.00\">samples = 23</text>\n<text text-anchor=\"middle\" x=\"61\" y=\"-208.3\" font-family=\"Helvetica,sans-Serif\" font-size=\"14.00\">value = [23, 0]</text>\n</g>\n<!-- 2&#45;&gt;3 -->\n<g id=\"edge3\" class=\"edge\">\n<title>2&#45;&gt;3</title>\n<path fill=\"none\" stroke=\"black\" d=\"M126.51,-296.88C115.53,-285.34 103.21,-272.39 92.25,-260.86\"/>\n<polygon fill=\"black\" stroke=\"black\" points=\"94.7,-258.35 85.27,-253.52 89.62,-263.18 94.7,-258.35\"/>\n</g>\n<!-- 4 -->\n<g id=\"node5\" class=\"node\">\n<title>4</title>\n<polygon fill=\"none\" stroke=\"black\" points=\"253.5,-253.5 140.5,-253.5 140.5,-200.5 253.5,-200.5 253.5,-253.5\"/>\n<text text-anchor=\"middle\" x=\"197\" y=\"-238.3\" font-family=\"Helvetica,sans-Serif\" font-size=\"14.00\">gini = 0.5</text>\n<text text-anchor=\"middle\" x=\"197\" y=\"-223.3\" font-family=\"Helvetica,sans-Serif\" font-size=\"14.00\">samples = 2</text>\n<text text-anchor=\"middle\" x=\"197\" y=\"-208.3\" font-family=\"Helvetica,sans-Serif\" font-size=\"14.00\">value = [1, 1]</text>\n</g>\n<!-- 2&#45;&gt;4 -->\n<g id=\"edge4\" class=\"edge\">\n<title>2&#45;&gt;4</title>\n<path fill=\"none\" stroke=\"black\" d=\"M170.66,-296.88C174.78,-286.11 179.37,-274.11 183.55,-263.18\"/>\n<polygon fill=\"black\" stroke=\"black\" points=\"186.94,-264.11 187.24,-253.52 180.4,-261.61 186.94,-264.11\"/>\n</g>\n<!-- 7 -->\n<g id=\"node8\" class=\"node\">\n<title>7</title>\n<polygon fill=\"none\" stroke=\"black\" points=\"515.5,-365 384.5,-365 384.5,-297 515.5,-297 515.5,-365\"/>\n<text text-anchor=\"middle\" x=\"450\" y=\"-349.8\" font-family=\"Helvetica,sans-Serif\" font-size=\"14.00\">Corners &lt;= 4.5</text>\n<text text-anchor=\"middle\" x=\"450\" y=\"-334.8\" font-family=\"Helvetica,sans-Serif\" font-size=\"14.00\">gini = 0.43</text>\n<text text-anchor=\"middle\" x=\"450\" y=\"-319.8\" font-family=\"Helvetica,sans-Serif\" font-size=\"14.00\">samples = 67</text>\n<text text-anchor=\"middle\" x=\"450\" y=\"-304.8\" font-family=\"Helvetica,sans-Serif\" font-size=\"14.00\">value = [21, 46]</text>\n</g>\n<!-- 6&#45;&gt;7 -->\n<g id=\"edge7\" class=\"edge\">\n<title>6&#45;&gt;7</title>\n<path fill=\"none\" stroke=\"black\" d=\"M453.38,-400.88C452.98,-392.78 452.55,-383.98 452.13,-375.47\"/>\n<polygon fill=\"black\" stroke=\"black\" points=\"455.62,-375.12 451.63,-365.3 448.63,-375.46 455.62,-375.12\"/>\n</g>\n<!-- 20 -->\n<g id=\"node21\" class=\"node\">\n<title>20</title>\n<polygon fill=\"none\" stroke=\"black\" points=\"646.5,-357.5 533.5,-357.5 533.5,-304.5 646.5,-304.5 646.5,-357.5\"/>\n<text text-anchor=\"middle\" x=\"590\" y=\"-342.3\" font-family=\"Helvetica,sans-Serif\" font-size=\"14.00\">gini = 0.0</text>\n<text text-anchor=\"middle\" x=\"590\" y=\"-327.3\" font-family=\"Helvetica,sans-Serif\" font-size=\"14.00\">samples = 3</text>\n<text text-anchor=\"middle\" x=\"590\" y=\"-312.3\" font-family=\"Helvetica,sans-Serif\" font-size=\"14.00\">value = [3, 0]</text>\n</g>\n<!-- 6&#45;&gt;20 -->\n<g id=\"edge20\" class=\"edge\">\n<title>6&#45;&gt;20</title>\n<path fill=\"none\" stroke=\"black\" d=\"M498.83,-400.88C514.7,-388.9 532.56,-375.4 548.24,-363.55\"/>\n<polygon fill=\"black\" stroke=\"black\" points=\"550.35,-366.34 556.22,-357.52 546.13,-360.76 550.35,-366.34\"/>\n</g>\n<!-- 8 -->\n<g id=\"node9\" class=\"node\">\n<title>8</title>\n<polygon fill=\"none\" stroke=\"black\" points=\"484,-261 340,-261 340,-193 484,-193 484,-261\"/>\n<text text-anchor=\"middle\" x=\"412\" y=\"-245.8\" font-family=\"Helvetica,sans-Serif\" font-size=\"14.00\">Attempts &lt;= 12.5</text>\n<text text-anchor=\"middle\" x=\"412\" y=\"-230.8\" font-family=\"Helvetica,sans-Serif\" font-size=\"14.00\">gini = 0.499</text>\n<text text-anchor=\"middle\" x=\"412\" y=\"-215.8\" font-family=\"Helvetica,sans-Serif\" font-size=\"14.00\">samples = 31</text>\n<text text-anchor=\"middle\" x=\"412\" y=\"-200.8\" font-family=\"Helvetica,sans-Serif\" font-size=\"14.00\">value = [15, 16]</text>\n</g>\n<!-- 7&#45;&gt;8 -->\n<g id=\"edge8\" class=\"edge\">\n<title>7&#45;&gt;8</title>\n<path fill=\"none\" stroke=\"black\" d=\"M437.66,-296.88C434.58,-288.6 431.22,-279.6 427.99,-270.91\"/>\n<polygon fill=\"black\" stroke=\"black\" points=\"431.18,-269.45 424.41,-261.3 424.62,-271.89 431.18,-269.45\"/>\n</g>\n<!-- 13 -->\n<g id=\"node14\" class=\"node\">\n<title>13</title>\n<polygon fill=\"none\" stroke=\"black\" points=\"759.5,-261 502.5,-261 502.5,-193 759.5,-193 759.5,-261\"/>\n<text text-anchor=\"middle\" x=\"631\" y=\"-245.8\" font-family=\"Helvetica,sans-Serif\" font-size=\"14.00\">Distance Covered (Kms) &lt;= 101.5</text>\n<text text-anchor=\"middle\" x=\"631\" y=\"-230.8\" font-family=\"Helvetica,sans-Serif\" font-size=\"14.00\">gini = 0.278</text>\n<text text-anchor=\"middle\" x=\"631\" y=\"-215.8\" font-family=\"Helvetica,sans-Serif\" font-size=\"14.00\">samples = 36</text>\n<text text-anchor=\"middle\" x=\"631\" y=\"-200.8\" font-family=\"Helvetica,sans-Serif\" font-size=\"14.00\">value = [6, 30]</text>\n</g>\n<!-- 7&#45;&gt;13 -->\n<g id=\"edge13\" class=\"edge\">\n<title>7&#45;&gt;13</title>\n<path fill=\"none\" stroke=\"black\" d=\"M508.77,-296.88C526.08,-287.12 545.17,-276.37 563.02,-266.31\"/>\n<polygon fill=\"black\" stroke=\"black\" points=\"565.23,-269.08 572.22,-261.12 561.79,-262.99 565.23,-269.08\"/>\n</g>\n<!-- 9 -->\n<g id=\"node10\" class=\"node\">\n<title>9</title>\n<polygon fill=\"none\" stroke=\"black\" points=\"356.5,-157 201.5,-157 201.5,-89 356.5,-89 356.5,-157\"/>\n<text text-anchor=\"middle\" x=\"279\" y=\"-141.8\" font-family=\"Helvetica,sans-Serif\" font-size=\"14.00\">Goal Scored &lt;= 3.5</text>\n<text text-anchor=\"middle\" x=\"279\" y=\"-126.8\" font-family=\"Helvetica,sans-Serif\" font-size=\"14.00\">gini = 0.488</text>\n<text text-anchor=\"middle\" x=\"279\" y=\"-111.8\" font-family=\"Helvetica,sans-Serif\" font-size=\"14.00\">samples = 26</text>\n<text text-anchor=\"middle\" x=\"279\" y=\"-96.8\" font-family=\"Helvetica,sans-Serif\" font-size=\"14.00\">value = [15, 11]</text>\n</g>\n<!-- 8&#45;&gt;9 -->\n<g id=\"edge9\" class=\"edge\">\n<title>8&#45;&gt;9</title>\n<path fill=\"none\" stroke=\"black\" d=\"M368.82,-192.88C356.62,-183.53 343.23,-173.26 330.59,-163.57\"/>\n<polygon fill=\"black\" stroke=\"black\" points=\"332.48,-160.61 322.42,-157.3 328.22,-166.16 332.48,-160.61\"/>\n</g>\n<!-- 12 -->\n<g id=\"node13\" class=\"node\">\n<title>12</title>\n<polygon fill=\"none\" stroke=\"black\" points=\"487.5,-149.5 374.5,-149.5 374.5,-96.5 487.5,-96.5 487.5,-149.5\"/>\n<text text-anchor=\"middle\" x=\"431\" y=\"-134.3\" font-family=\"Helvetica,sans-Serif\" font-size=\"14.00\">gini = 0.0</text>\n<text text-anchor=\"middle\" x=\"431\" y=\"-119.3\" font-family=\"Helvetica,sans-Serif\" font-size=\"14.00\">samples = 5</text>\n<text text-anchor=\"middle\" x=\"431\" y=\"-104.3\" font-family=\"Helvetica,sans-Serif\" font-size=\"14.00\">value = [0, 5]</text>\n</g>\n<!-- 8&#45;&gt;12 -->\n<g id=\"edge12\" class=\"edge\">\n<title>8&#45;&gt;12</title>\n<path fill=\"none\" stroke=\"black\" d=\"M418.17,-192.88C420.16,-182.22 422.37,-170.35 424.38,-159.52\"/>\n<polygon fill=\"black\" stroke=\"black\" points=\"427.86,-159.99 426.25,-149.52 420.97,-158.71 427.86,-159.99\"/>\n</g>\n<!-- 10 -->\n<g id=\"node11\" class=\"node\">\n<title>10</title>\n<polygon fill=\"none\" stroke=\"black\" points=\"250,-53 128,-53 128,0 250,0 250,-53\"/>\n<text text-anchor=\"middle\" x=\"189\" y=\"-37.8\" font-family=\"Helvetica,sans-Serif\" font-size=\"14.00\">gini = 0.454</text>\n<text text-anchor=\"middle\" x=\"189\" y=\"-22.8\" font-family=\"Helvetica,sans-Serif\" font-size=\"14.00\">samples = 23</text>\n<text text-anchor=\"middle\" x=\"189\" y=\"-7.8\" font-family=\"Helvetica,sans-Serif\" font-size=\"14.00\">value = [15, 8]</text>\n</g>\n<!-- 9&#45;&gt;10 -->\n<g id=\"edge10\" class=\"edge\">\n<title>9&#45;&gt;10</title>\n<path fill=\"none\" stroke=\"black\" d=\"M247.52,-88.95C238.81,-79.8 229.35,-69.87 220.63,-60.71\"/>\n<polygon fill=\"black\" stroke=\"black\" points=\"222.94,-58.06 213.51,-53.24 217.87,-62.89 222.94,-58.06\"/>\n</g>\n<!-- 11 -->\n<g id=\"node12\" class=\"node\">\n<title>11</title>\n<polygon fill=\"none\" stroke=\"black\" points=\"381.5,-53 268.5,-53 268.5,0 381.5,0 381.5,-53\"/>\n<text text-anchor=\"middle\" x=\"325\" y=\"-37.8\" font-family=\"Helvetica,sans-Serif\" font-size=\"14.00\">gini = 0.0</text>\n<text text-anchor=\"middle\" x=\"325\" y=\"-22.8\" font-family=\"Helvetica,sans-Serif\" font-size=\"14.00\">samples = 3</text>\n<text text-anchor=\"middle\" x=\"325\" y=\"-7.8\" font-family=\"Helvetica,sans-Serif\" font-size=\"14.00\">value = [0, 3]</text>\n</g>\n<!-- 9&#45;&gt;11 -->\n<g id=\"edge11\" class=\"edge\">\n<title>9&#45;&gt;11</title>\n<path fill=\"none\" stroke=\"black\" d=\"M295.09,-88.95C299.27,-80.35 303.8,-71.06 308.03,-62.37\"/>\n<polygon fill=\"black\" stroke=\"black\" points=\"311.24,-63.76 312.47,-53.24 304.95,-60.7 311.24,-63.76\"/>\n</g>\n<!-- 14 -->\n<g id=\"node15\" class=\"node\">\n<title>14</title>\n<polygon fill=\"none\" stroke=\"black\" points=\"681.5,-157 542.5,-157 542.5,-89 681.5,-89 681.5,-157\"/>\n<text text-anchor=\"middle\" x=\"612\" y=\"-141.8\" font-family=\"Helvetica,sans-Serif\" font-size=\"14.00\">Off&#45;Target &lt;= 7.5</text>\n<text text-anchor=\"middle\" x=\"612\" y=\"-126.8\" font-family=\"Helvetica,sans-Serif\" font-size=\"14.00\">gini = 0.49</text>\n<text text-anchor=\"middle\" x=\"612\" y=\"-111.8\" font-family=\"Helvetica,sans-Serif\" font-size=\"14.00\">samples = 7</text>\n<text text-anchor=\"middle\" x=\"612\" y=\"-96.8\" font-family=\"Helvetica,sans-Serif\" font-size=\"14.00\">value = [3, 4]</text>\n</g>\n<!-- 13&#45;&gt;14 -->\n<g id=\"edge14\" class=\"edge\">\n<title>13&#45;&gt;14</title>\n<path fill=\"none\" stroke=\"black\" d=\"M624.83,-192.88C623.3,-184.69 621.65,-175.79 620.05,-167.19\"/>\n<polygon fill=\"black\" stroke=\"black\" points=\"623.47,-166.49 618.2,-157.3 616.59,-167.77 623.47,-166.49\"/>\n</g>\n<!-- 17 -->\n<g id=\"node18\" class=\"node\">\n<title>17</title>\n<polygon fill=\"none\" stroke=\"black\" points=\"850,-157 700,-157 700,-89 850,-89 850,-157\"/>\n<text text-anchor=\"middle\" x=\"775\" y=\"-141.8\" font-family=\"Helvetica,sans-Serif\" font-size=\"14.00\">Free Kicks &lt;= 10.5</text>\n<text text-anchor=\"middle\" x=\"775\" y=\"-126.8\" font-family=\"Helvetica,sans-Serif\" font-size=\"14.00\">gini = 0.185</text>\n<text text-anchor=\"middle\" x=\"775\" y=\"-111.8\" font-family=\"Helvetica,sans-Serif\" font-size=\"14.00\">samples = 29</text>\n<text text-anchor=\"middle\" x=\"775\" y=\"-96.8\" font-family=\"Helvetica,sans-Serif\" font-size=\"14.00\">value = [3, 26]</text>\n</g>\n<!-- 13&#45;&gt;17 -->\n<g id=\"edge17\" class=\"edge\">\n<title>13&#45;&gt;17</title>\n<path fill=\"none\" stroke=\"black\" d=\"M677.75,-192.88C691.08,-183.44 705.73,-173.06 719.53,-163.29\"/>\n<polygon fill=\"black\" stroke=\"black\" points=\"721.85,-165.94 727.99,-157.3 717.81,-160.22 721.85,-165.94\"/>\n</g>\n<!-- 15 -->\n<g id=\"node16\" class=\"node\">\n<title>15</title>\n<polygon fill=\"none\" stroke=\"black\" points=\"545.5,-53 432.5,-53 432.5,0 545.5,0 545.5,-53\"/>\n<text text-anchor=\"middle\" x=\"489\" y=\"-37.8\" font-family=\"Helvetica,sans-Serif\" font-size=\"14.00\">gini = 0.0</text>\n<text text-anchor=\"middle\" x=\"489\" y=\"-22.8\" font-family=\"Helvetica,sans-Serif\" font-size=\"14.00\">samples = 4</text>\n<text text-anchor=\"middle\" x=\"489\" y=\"-7.8\" font-family=\"Helvetica,sans-Serif\" font-size=\"14.00\">value = [0, 4]</text>\n</g>\n<!-- 14&#45;&gt;15 -->\n<g id=\"edge15\" class=\"edge\">\n<title>14&#45;&gt;15</title>\n<path fill=\"none\" stroke=\"black\" d=\"M568.98,-88.95C556.48,-79.34 542.85,-68.87 530.45,-59.34\"/>\n<polygon fill=\"black\" stroke=\"black\" points=\"532.56,-56.55 522.5,-53.24 528.3,-62.1 532.56,-56.55\"/>\n</g>\n<!-- 16 -->\n<g id=\"node17\" class=\"node\">\n<title>16</title>\n<polygon fill=\"none\" stroke=\"black\" points=\"676.5,-53 563.5,-53 563.5,0 676.5,0 676.5,-53\"/>\n<text text-anchor=\"middle\" x=\"620\" y=\"-37.8\" font-family=\"Helvetica,sans-Serif\" font-size=\"14.00\">gini = 0.0</text>\n<text text-anchor=\"middle\" x=\"620\" y=\"-22.8\" font-family=\"Helvetica,sans-Serif\" font-size=\"14.00\">samples = 3</text>\n<text text-anchor=\"middle\" x=\"620\" y=\"-7.8\" font-family=\"Helvetica,sans-Serif\" font-size=\"14.00\">value = [3, 0]</text>\n</g>\n<!-- 14&#45;&gt;16 -->\n<g id=\"edge16\" class=\"edge\">\n<title>14&#45;&gt;16</title>\n<path fill=\"none\" stroke=\"black\" d=\"M614.8,-88.95C615.5,-80.62 616.26,-71.65 616.98,-63.2\"/>\n<polygon fill=\"black\" stroke=\"black\" points=\"620.47,-63.5 617.82,-53.24 613.49,-62.91 620.47,-63.5\"/>\n</g>\n<!-- 18 -->\n<g id=\"node19\" class=\"node\">\n<title>18</title>\n<polygon fill=\"none\" stroke=\"black\" points=\"823.5,-53 710.5,-53 710.5,0 823.5,0 823.5,-53\"/>\n<text text-anchor=\"middle\" x=\"767\" y=\"-37.8\" font-family=\"Helvetica,sans-Serif\" font-size=\"14.00\">gini = 0.48</text>\n<text text-anchor=\"middle\" x=\"767\" y=\"-22.8\" font-family=\"Helvetica,sans-Serif\" font-size=\"14.00\">samples = 5</text>\n<text text-anchor=\"middle\" x=\"767\" y=\"-7.8\" font-family=\"Helvetica,sans-Serif\" font-size=\"14.00\">value = [2, 3]</text>\n</g>\n<!-- 17&#45;&gt;18 -->\n<g id=\"edge18\" class=\"edge\">\n<title>17&#45;&gt;18</title>\n<path fill=\"none\" stroke=\"black\" d=\"M772.2,-88.95C771.5,-80.62 770.74,-71.65 770.02,-63.2\"/>\n<polygon fill=\"black\" stroke=\"black\" points=\"773.51,-62.91 769.18,-53.24 766.53,-63.5 773.51,-62.91\"/>\n</g>\n<!-- 19 -->\n<g id=\"node20\" class=\"node\">\n<title>19</title>\n<polygon fill=\"none\" stroke=\"black\" points=\"964,-53 842,-53 842,0 964,0 964,-53\"/>\n<text text-anchor=\"middle\" x=\"903\" y=\"-37.8\" font-family=\"Helvetica,sans-Serif\" font-size=\"14.00\">gini = 0.08</text>\n<text text-anchor=\"middle\" x=\"903\" y=\"-22.8\" font-family=\"Helvetica,sans-Serif\" font-size=\"14.00\">samples = 24</text>\n<text text-anchor=\"middle\" x=\"903\" y=\"-7.8\" font-family=\"Helvetica,sans-Serif\" font-size=\"14.00\">value = [1, 23]</text>\n</g>\n<!-- 17&#45;&gt;19 -->\n<g id=\"edge19\" class=\"edge\">\n<title>17&#45;&gt;19</title>\n<path fill=\"none\" stroke=\"black\" d=\"M819.77,-88.95C832.78,-79.34 846.96,-68.87 859.87,-59.34\"/>\n<polygon fill=\"black\" stroke=\"black\" points=\"862.17,-61.99 868.14,-53.24 858.02,-56.36 862.17,-61.99\"/>\n</g>\n</g>\n</svg>\n",
      "text/plain": [
       "<graphviz.files.Source at 0x7fa17e8dee10>"
      ]
     },
     "execution_count": 2,
     "metadata": {},
     "output_type": "execute_result"
    }
   ],
   "source": [
    "from sklearn import tree\n",
    "import graphviz\n",
    "\n",
    "tree_graph = tree.export_graphviz(tree_model, out_file=None, feature_names=feature_names)\n",
    "graphviz.Source(tree_graph)"
   ]
  },
  {
   "cell_type": "markdown",
   "id": "a26297cb",
   "metadata": {
    "papermill": {
     "duration": 0.004099,
     "end_time": "2023-01-27T16:44:27.287326",
     "exception": false,
     "start_time": "2023-01-27T16:44:27.283227",
     "status": "completed"
    },
    "tags": []
   },
   "source": [
    "As guidance to read the tree:\n",
    "- Leaves with children show their splitting criterion on the top\n",
    "- The pair of values at the bottom show the count of False values and True values for the target respectively, of data points in that node of the tree."
   ]
  },
  {
   "cell_type": "markdown",
   "id": "15d270cd",
   "metadata": {
    "papermill": {
     "duration": 0.004042,
     "end_time": "2023-01-27T16:44:27.295661",
     "exception": false,
     "start_time": "2023-01-27T16:44:27.291619",
     "status": "completed"
    },
    "tags": []
   },
   "source": [
    "Here is the code to create the Partial Dependence Plot using the scikit-learn library."
   ]
  },
  {
   "cell_type": "code",
   "execution_count": 3,
   "id": "4348bdd1",
   "metadata": {
    "execution": {
     "iopub.execute_input": "2023-01-27T16:44:27.307224Z",
     "iopub.status.busy": "2023-01-27T16:44:27.305791Z",
     "iopub.status.idle": "2023-01-27T16:44:27.594325Z",
     "shell.execute_reply": "2023-01-27T16:44:27.593469Z"
    },
    "papermill": {
     "duration": 0.296933,
     "end_time": "2023-01-27T16:44:27.596795",
     "exception": false,
     "start_time": "2023-01-27T16:44:27.299862",
     "status": "completed"
    },
    "tags": []
   },
   "outputs": [
    {
     "data": {
      "image/png": "[encoded data removed]",
      "text/plain": [
       "<Figure size 432x288 with 2 Axes>"
      ]
     },
     "metadata": {
      "needs_background": "light"
     },
     "output_type": "display_data"
    }
   ],
   "source": [
    "from matplotlib import pyplot as plt\n",
    "from sklearn.inspection import PartialDependenceDisplay\n",
    "\n",
    "# Create and plot the data\n",
    "disp1 = PartialDependenceDisplay.from_estimator(tree_model, val_X, ['Goal Scored'])\n",
    "plt.show()"
   ]
  },
  {
   "cell_type": "markdown",
   "id": "538c9a1a",
   "metadata": {
    "papermill": {
     "duration": 0.004277,
     "end_time": "2023-01-27T16:44:27.605888",
     "exception": false,
     "start_time": "2023-01-27T16:44:27.601611",
     "status": "completed"
    },
    "tags": []
   },
   "source": [
    "The y axis is interpreted as **change in the prediction** from what it would be predicted at the baseline or leftmost value.\n",
    "\n",
    "From this particular graph, we see that scoring a goal substantially increases your chances of winning \"Man of The Match.\"  But extra goals beyond that appear to have little impact on predictions.\n",
    "\n",
    "Here is another example plot:"
   ]
  },
  {
   "cell_type": "code",
   "execution_count": 4,
   "id": "8286ec15",
   "metadata": {
    "execution": {
     "iopub.execute_input": "2023-01-27T16:44:27.617968Z",
     "iopub.status.busy": "2023-01-27T16:44:27.616964Z",
     "iopub.status.idle": "2023-01-27T16:44:27.892955Z",
     "shell.execute_reply": "2023-01-27T16:44:27.891922Z"
    },
    "papermill": {
     "duration": 0.284841,
     "end_time": "2023-01-27T16:44:27.895462",
     "exception": false,
     "start_time": "2023-01-27T16:44:27.610621",
     "status": "completed"
    },
    "tags": []
   },
   "outputs": [
    {
     "data": {
      "image/png": "[encoded data removed]",
      "text/plain": [
       "<Figure size 432x288 with 2 Axes>"
      ]
     },
     "metadata": {
      "needs_background": "light"
     },
     "output_type": "display_data"
    }
   ],
   "source": [
    "feature_to_plot = 'Distance Covered (Kms)'\n",
    "disp2 = PartialDependenceDisplay.from_estimator(tree_model, val_X, [feature_to_plot])\n",
    "plt.show()"
   ]
  },
  {
   "cell_type": "markdown",
   "id": "b8f7528c",
   "metadata": {
    "papermill": {
     "duration": 0.004772,
     "end_time": "2023-01-27T16:44:27.905476",
     "exception": false,
     "start_time": "2023-01-27T16:44:27.900704",
     "status": "completed"
    },
    "tags": []
   },
   "source": [
    "This graph seems too simple to represent reality. But that's because the model is so simple. You should be able to see from the decision tree above that this is representing exactly the model's structure.\n",
    "\n",
    "You can easily compare the structure or implications of different models. Here is the same plot with a Random Forest model."
   ]
  },
  {
   "cell_type": "code",
   "execution_count": 5,
   "id": "ccebc3b5",
   "metadata": {
    "execution": {
     "iopub.execute_input": "2023-01-27T16:44:27.918064Z",
     "iopub.status.busy": "2023-01-27T16:44:27.916874Z",
     "iopub.status.idle": "2023-01-27T16:44:28.553369Z",
     "shell.execute_reply": "2023-01-27T16:44:28.552189Z"
    },
    "papermill": {
     "duration": 0.64537,
     "end_time": "2023-01-27T16:44:28.555888",
     "exception": false,
     "start_time": "2023-01-27T16:44:27.910518",
     "status": "completed"
    },
    "tags": []
   },
   "outputs": [
    {
     "data": {
      "image/png": "[encoded data removed]",
      "text/plain": [
       "<Figure size 432x288 with 2 Axes>"
      ]
     },
     "metadata": {
      "needs_background": "light"
     },
     "output_type": "display_data"
    }
   ],
   "source": [
    "# Build Random Forest model\n",
    "rf_model = RandomForestClassifier(random_state=0).fit(train_X, train_y)\n",
    "\n",
    "disp3 = PartialDependenceDisplay.from_estimator(rf_model, val_X, [feature_to_plot])\n",
    "plt.show()"
   ]
  },
  {
   "cell_type": "markdown",
   "id": "eb9a753d",
   "metadata": {
    "papermill": {
     "duration": 0.005138,
     "end_time": "2023-01-27T16:44:28.566614",
     "exception": false,
     "start_time": "2023-01-27T16:44:28.561476",
     "status": "completed"
    },
    "tags": []
   },
   "source": [
    "This model thinks you are more likely to win *Man of the Match* if your players run a total of 100km over the course of the game. Though running much more causes lower predictions.\n",
    "\n",
    "In general, the smooth shape of this curve seems more plausible than the step function from the Decision Tree model.  Though this dataset is small enough that we would be careful in how we interpret any model.\n",
    "\n",
    "# 2D Partial Dependence Plots\n",
    "If you are curious about interactions between features, 2D partial dependence plots are also useful. An example may clarify this.  \n",
    "\n",
    "We will again use the Decision Tree model for this graph.  It will create an extremely simple plot, but you should be able to match what you see in the plot to the tree itself."
   ]
  },
  {
   "cell_type": "code",
   "execution_count": 6,
   "id": "4c59430f",
   "metadata": {
    "execution": {
     "iopub.execute_input": "2023-01-27T16:44:28.579253Z",
     "iopub.status.busy": "2023-01-27T16:44:28.578858Z",
     "iopub.status.idle": "2023-01-27T16:44:29.054620Z",
     "shell.execute_reply": "2023-01-27T16:44:29.053577Z"
    },
    "papermill": {
     "duration": 0.485174,
     "end_time": "2023-01-27T16:44:29.057057",
     "exception": false,
     "start_time": "2023-01-27T16:44:28.571883",
     "status": "completed"
    },
    "tags": []
   },
   "outputs": [
    {
     "data": {
      "image/png": "[encoded data removed]",
      "text/plain": [
       "<Figure size 576x432 with 2 Axes>"
      ]
     },
     "metadata": {
      "needs_background": "light"
     },
     "output_type": "display_data"
    }
   ],
   "source": [
    "fig, ax = plt.subplots(figsize=(8, 6))\n",
    "f_names = [('Goal Scored', 'Distance Covered (Kms)')]\n",
    "# Similar to previous PDP plot except we use tuple of features instead of single feature\n",
    "disp4 = PartialDependenceDisplay.from_estimator(tree_model, val_X, f_names, ax=ax)\n",
    "plt.show()"
   ]
  },
  {
   "cell_type": "markdown",
   "id": "a5252b7b",
   "metadata": {
    "papermill": {
     "duration": 0.005623,
     "end_time": "2023-01-27T16:44:29.068951",
     "exception": false,
     "start_time": "2023-01-27T16:44:29.063328",
     "status": "completed"
    },
    "tags": []
   },
   "source": [
    "This graph shows predictions for any combination of Goals Scored and Distance covered. \n",
    "\n",
    "For example, we see the highest predictions when a team scores at least 1 goal and they run a total distance close to 100km.  If they score 0 goals, distance covered doesn't matter. Can you see this by tracing through the decision tree with 0 goals?\n",
    "\n",
    "But distance can impact predictions if they score goals. Make sure you can see this from the 2D partial dependence plot. Can you see this pattern in the decision tree too?"
   ]
  },
  {
   "cell_type": "markdown",
   "id": "5f771c4e",
   "metadata": {
    "papermill": {
     "duration": 0.005564,
     "end_time": "2023-01-27T16:44:29.080376",
     "exception": false,
     "start_time": "2023-01-27T16:44:29.074812",
     "status": "completed"
    },
    "tags": []
   },
   "source": [
    "# Your Turn\n",
    "**[Test your understanding](https://www.kaggle.com/kernels/fork/1637380)** on conceptual questions and a short coding challenge."
   ]
  },
  {
   "cell_type": "markdown",
   "id": "a7f65eb4",
   "metadata": {
    "papermill": {
     "duration": 0.005472,
     "end_time": "2023-01-27T16:44:29.091619",
     "exception": false,
     "start_time": "2023-01-27T16:44:29.086147",
     "status": "completed"
    },
    "tags": []
   },
   "source": [
    "---\n",
    "\n",
    "\n",
    "\n",
    "\n",
    "*Have questions or comments? Visit the [course discussion forum](https://www.kaggle.com/learn/machine-learning-explainability/discussion) to chat with other learners.*"
   ]
  }
 ],
 "metadata": {
  "kernelspec": {
   "display_name": "base",
   "language": "python",
   "name": "python3"
  },
  "language_info": {
   "codemirror_mode": {
    "name": "ipython",
    "version": 3
   },
   "file_extension": ".py",
   "mimetype": "text/x-python",
   "name": "python",
   "nbconvert_exporter": "python",
   "pygments_lexer": "ipython3",
   "version": "3.9.16"
  },
  "papermill": {
   "default_parameters": {},
   "duration": 13.843173,
   "end_time": "2023-01-27T16:44:29.920886",
   "environment_variables": {},
   "exception": null,
   "input_path": "__notebook__.ipynb",
   "output_path": "__notebook__.ipynb",
   "parameters": {},
   "start_time": "2023-01-27T16:44:16.077713",
   "version": "2.3.4"
  },
  "vscode": {
   "interpreter": {
    "hash": "3cfd106f785ae1e288da74ae733f9b47f8a2699db986927140be0bc196406f4c"
   }
  }
 },
 "nbformat": 4,
 "nbformat_minor": 5
}
