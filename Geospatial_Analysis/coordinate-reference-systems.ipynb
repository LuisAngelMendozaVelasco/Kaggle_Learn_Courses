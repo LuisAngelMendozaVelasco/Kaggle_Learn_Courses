{
 "cells": [
  {
   "cell_type": "markdown",
   "id": "59960072",
   "metadata": {
    "papermill": {
     "duration": 0.013122,
     "end_time": "2021-11-09T00:08:43.585511",
     "exception": false,
     "start_time": "2021-11-09T00:08:43.572389",
     "status": "completed"
    },
    "tags": []
   },
   "source": [
    "# Introduction\n",
    "\n",
    "The maps you create in this course portray the surface of the earth in two dimensions.  But, as you know, the world is actually a three-dimensional globe. So we have to use a method called a **map projection** to render it as a flat surface.  \n",
    "\n",
    "Map projections can't be 100% accurate.  Each projection distorts the surface of the Earth in some way, while retaining some useful property.  For instance,\n",
    "- the *equal-area* projections (like \"Lambert Cylindrical Equal Area\", or \"Africa Albers Equal Area Conic\") preserve area.  This is a good choice, if you'd like to calculate the area of a country or city, for example.\n",
    "- the *equidistant* projections (like \"Azimuthal Equidistant projection\") preserve distance.  This would be a good choice for calculating flight distance.\n",
    "\n",
    "<center>\n",
    "<img src=\"https://i.imgur.com/noBRRNR.png\" width=\"700\">\n",
    "<b>List of map projections</b> (<a href=\"https://bit.ly/2kOHTBs\">Source</a>)<br/><br/>\n",
    "</center>\n",
    "\n",
    "We use a **coordinate reference system (CRS)** to show how the projected points correspond to real locations on Earth.  In this tutorial, you'll learn more about coordinate reference systems, along with how to use them in GeoPandas."
   ]
  },
  {
   "cell_type": "code",
   "execution_count": 1,
   "id": "3cc3d2da",
   "metadata": {
    "_kg_hide-input": true,
    "execution": {
     "iopub.execute_input": "2021-11-09T00:08:43.615085Z",
     "iopub.status.busy": "2021-11-09T00:08:43.613905Z",
     "iopub.status.idle": "2021-11-09T00:08:44.268141Z",
     "shell.execute_reply": "2021-11-09T00:08:44.267155Z"
    },
    "papermill": {
     "duration": 0.670491,
     "end_time": "2021-11-09T00:08:44.268350",
     "exception": false,
     "start_time": "2021-11-09T00:08:43.597859",
     "status": "completed"
    },
    "tags": []
   },
   "outputs": [],
   "source": [
    "import geopandas as gpd\n",
    "import pandas as pd\n",
    "import seaborn as sns\n",
    "\n",
    "sns.set_style(\"whitegrid\")"
   ]
  },
  {
   "cell_type": "markdown",
   "id": "0acf5d9d",
   "metadata": {
    "papermill": {
     "duration": 0.014801,
     "end_time": "2021-11-09T00:08:44.295885",
     "exception": false,
     "start_time": "2021-11-09T00:08:44.281084",
     "status": "completed"
    },
    "tags": []
   },
   "source": [
    "# Setting the CRS\n",
    "\n",
    "When we create a GeoDataFrame from a shapefile, the CRS is already imported for us. "
   ]
  },
  {
   "cell_type": "code",
   "execution_count": 2,
   "id": "905e2c67",
   "metadata": {
    "execution": {
     "iopub.execute_input": "2021-11-09T00:08:44.499912Z",
     "iopub.status.busy": "2021-11-09T00:08:44.499142Z",
     "iopub.status.idle": "2021-11-09T00:08:44.671222Z",
     "shell.execute_reply": "2021-11-09T00:08:44.670598Z"
    },
    "papermill": {
     "duration": 0.36337,
     "end_time": "2021-11-09T00:08:44.671376",
     "exception": false,
     "start_time": "2021-11-09T00:08:44.308006",
     "status": "completed"
    },
    "tags": []
   },
   "outputs": [
    {
     "name": "stdout",
     "output_type": "stream",
     "text": [
      "epsg:32630\n"
     ]
    }
   ],
   "source": [
    "# Load a GeoDataFrame containing regions in Ghana\n",
    "regions = gpd.read_file(\"data/ghana/Regions/Map_of_Regions_in_Ghana.shp\")\n",
    "print(regions.crs)"
   ]
  },
  {
   "cell_type": "markdown",
   "id": "a708bf6d",
   "metadata": {
    "papermill": {
     "duration": 0.012741,
     "end_time": "2021-11-09T00:08:44.697328",
     "exception": false,
     "start_time": "2021-11-09T00:08:44.684587",
     "status": "completed"
    },
    "tags": []
   },
   "source": [
    "How do you interpret that?\n",
    "\n",
    "Coordinate reference systems are referenced by [European Petroleum Survey Group (EPSG)](http://www.epsg.org/) codes.\n",
    "\n",
    "This GeoDataFrame uses [EPSG 32630](https://epsg.io/32630), which is more commonly called the \"Mercator\" projection. This projection preserves angles (making it useful for sea navigation) and slightly distorts area. \n",
    "\n",
    "However, when creating a GeoDataFrame from a CSV file, we have to set the CRS.  [EPSG 4326](https://epsg.io/4326) corresponds to coordinates in latitude and longitude."
   ]
  },
  {
   "cell_type": "code",
   "execution_count": 3,
   "id": "fa39f6db",
   "metadata": {
    "execution": {
     "iopub.execute_input": "2021-11-09T00:08:44.725885Z",
     "iopub.status.busy": "2021-11-09T00:08:44.725253Z",
     "iopub.status.idle": "2021-11-09T00:08:44.795107Z",
     "shell.execute_reply": "2021-11-09T00:08:44.795616Z"
    },
    "papermill": {
     "duration": 0.085748,
     "end_time": "2021-11-09T00:08:44.795786",
     "exception": false,
     "start_time": "2021-11-09T00:08:44.710038",
     "status": "completed"
    },
    "tags": []
   },
   "outputs": [
    {
     "name": "stderr",
     "output_type": "stream",
     "text": [
      "c:\\Users\\luisa\\anaconda3\\lib\\site-packages\\pyproj\\crs\\crs.py:53: FutureWarning: '+init=<authority>:<code>' syntax is deprecated. '<authority>:<code>' is the preferred initialization method. When making the change, be mindful of axis order changes: https://pyproj4.github.io/pyproj/stable/gotchas.html#axis-order-changes-in-proj-6\n",
      "  return _prepare_from_string(\" \".join(pjargs))\n"
     ]
    },
    {
     "data": {
      "text/html": [
       "<div>\n",
       "<style scoped>\n",
       "    .dataframe tbody tr th:only-of-type {\n",
       "        vertical-align: middle;\n",
       "    }\n",
       "\n",
       "    .dataframe tbody tr th {\n",
       "        vertical-align: top;\n",
       "    }\n",
       "\n",
       "    .dataframe thead th {\n",
       "        text-align: right;\n",
       "    }\n",
       "</style>\n",
       "<table border=\"1\" class=\"dataframe\">\n",
       "  <thead>\n",
       "    <tr style=\"text-align: right;\">\n",
       "      <th></th>\n",
       "      <th>Region</th>\n",
       "      <th>District</th>\n",
       "      <th>FacilityName</th>\n",
       "      <th>Type</th>\n",
       "      <th>Town</th>\n",
       "      <th>Ownership</th>\n",
       "      <th>Latitude</th>\n",
       "      <th>Longitude</th>\n",
       "      <th>geometry</th>\n",
       "    </tr>\n",
       "  </thead>\n",
       "  <tbody>\n",
       "    <tr>\n",
       "      <th>0</th>\n",
       "      <td>Ashanti</td>\n",
       "      <td>Offinso North</td>\n",
       "      <td>A.M.E Zion Clinic</td>\n",
       "      <td>Clinic</td>\n",
       "      <td>Afrancho</td>\n",
       "      <td>CHAG</td>\n",
       "      <td>7.40801</td>\n",
       "      <td>-1.96317</td>\n",
       "      <td>POINT (-1.96317 7.40801)</td>\n",
       "    </tr>\n",
       "    <tr>\n",
       "      <th>1</th>\n",
       "      <td>Ashanti</td>\n",
       "      <td>Bekwai Municipal</td>\n",
       "      <td>Abenkyiman Clinic</td>\n",
       "      <td>Clinic</td>\n",
       "      <td>Anwiankwanta</td>\n",
       "      <td>Private</td>\n",
       "      <td>6.46312</td>\n",
       "      <td>-1.58592</td>\n",
       "      <td>POINT (-1.58592 6.46312)</td>\n",
       "    </tr>\n",
       "    <tr>\n",
       "      <th>2</th>\n",
       "      <td>Ashanti</td>\n",
       "      <td>Adansi North</td>\n",
       "      <td>Aboabo Health Centre</td>\n",
       "      <td>Health Centre</td>\n",
       "      <td>Aboabo No 2</td>\n",
       "      <td>Government</td>\n",
       "      <td>6.22393</td>\n",
       "      <td>-1.34982</td>\n",
       "      <td>POINT (-1.34982 6.22393)</td>\n",
       "    </tr>\n",
       "    <tr>\n",
       "      <th>3</th>\n",
       "      <td>Ashanti</td>\n",
       "      <td>Afigya-Kwabre</td>\n",
       "      <td>Aboabogya Health Centre</td>\n",
       "      <td>Health Centre</td>\n",
       "      <td>Aboabogya</td>\n",
       "      <td>Government</td>\n",
       "      <td>6.84177</td>\n",
       "      <td>-1.61098</td>\n",
       "      <td>POINT (-1.61098 6.84177)</td>\n",
       "    </tr>\n",
       "    <tr>\n",
       "      <th>4</th>\n",
       "      <td>Ashanti</td>\n",
       "      <td>Kwabre</td>\n",
       "      <td>Aboaso Health Centre</td>\n",
       "      <td>Health Centre</td>\n",
       "      <td>Aboaso</td>\n",
       "      <td>Government</td>\n",
       "      <td>6.84177</td>\n",
       "      <td>-1.61098</td>\n",
       "      <td>POINT (-1.61098 6.84177)</td>\n",
       "    </tr>\n",
       "  </tbody>\n",
       "</table>\n",
       "</div>"
      ],
      "text/plain": [
       "    Region          District             FacilityName           Type  \\\n",
       "0  Ashanti     Offinso North        A.M.E Zion Clinic         Clinic   \n",
       "1  Ashanti  Bekwai Municipal        Abenkyiman Clinic         Clinic   \n",
       "2  Ashanti      Adansi North     Aboabo Health Centre  Health Centre   \n",
       "3  Ashanti     Afigya-Kwabre  Aboabogya Health Centre  Health Centre   \n",
       "4  Ashanti            Kwabre     Aboaso Health Centre  Health Centre   \n",
       "\n",
       "           Town   Ownership  Latitude  Longitude                  geometry  \n",
       "0      Afrancho        CHAG   7.40801   -1.96317  POINT (-1.96317 7.40801)  \n",
       "1  Anwiankwanta     Private   6.46312   -1.58592  POINT (-1.58592 6.46312)  \n",
       "2   Aboabo No 2  Government   6.22393   -1.34982  POINT (-1.34982 6.22393)  \n",
       "3     Aboabogya  Government   6.84177   -1.61098  POINT (-1.61098 6.84177)  \n",
       "4        Aboaso  Government   6.84177   -1.61098  POINT (-1.61098 6.84177)  "
      ]
     },
     "execution_count": 3,
     "metadata": {},
     "output_type": "execute_result"
    }
   ],
   "source": [
    "# Create a DataFrame with health facilities in Ghana\n",
    "facilities_df = pd.read_csv(\"data/ghana/health_facilities.csv\")\n",
    "\n",
    "# Convert the DataFrame to a GeoDataFrame\n",
    "facilities = gpd.GeoDataFrame(facilities_df, geometry=gpd.points_from_xy(facilities_df.Longitude, facilities_df.Latitude))\n",
    "\n",
    "# Set the coordinate reference system (CRS) to EPSG 4326\n",
    "facilities.crs = {'init': 'epsg:4326'}\n",
    "\n",
    "# View the first five rows of the GeoDataFrame\n",
    "facilities.head()"
   ]
  },
  {
   "cell_type": "markdown",
   "id": "1546612a",
   "metadata": {
    "papermill": {
     "duration": 0.013477,
     "end_time": "2021-11-09T00:08:44.824276",
     "exception": false,
     "start_time": "2021-11-09T00:08:44.810799",
     "status": "completed"
    },
    "tags": []
   },
   "source": [
    "In the code cell above, to create a GeoDataFrame from a CSV file, we needed to use both Pandas and GeoPandas:\n",
    "- We begin by creating a DataFrame containing columns with latitude and longitude coordinates.\n",
    "- To convert it to a GeoDataFrame, we use `gpd.GeoDataFrame()`.  \n",
    "- The `gpd.points_from_xy()` function creates `Point` objects from the latitude and longitude columns."
   ]
  },
  {
   "cell_type": "markdown",
   "id": "cb551e78",
   "metadata": {
    "papermill": {
     "duration": 0.01333,
     "end_time": "2021-11-09T00:08:44.851992",
     "exception": false,
     "start_time": "2021-11-09T00:08:44.838662",
     "status": "completed"
    },
    "tags": []
   },
   "source": [
    "# Re-projecting\n",
    "\n",
    "Re-projecting refers to the process of changing the CRS.  This is done in GeoPandas with the `to_crs()` method.\n",
    "\n",
    "When plotting multiple GeoDataFrames, it's important that they all use the same CRS.  In the code cell below, we change the CRS of the `facilities` GeoDataFrame to match the CRS of `regions` before plotting it."
   ]
  },
  {
   "cell_type": "code",
   "execution_count": 4,
   "id": "3e062c4d",
   "metadata": {
    "execution": {
     "iopub.execute_input": "2021-11-09T00:08:44.886423Z",
     "iopub.status.busy": "2021-11-09T00:08:44.885720Z",
     "iopub.status.idle": "2021-11-09T00:08:45.802336Z",
     "shell.execute_reply": "2021-11-09T00:08:45.802888Z"
    },
    "papermill": {
     "duration": 0.937431,
     "end_time": "2021-11-09T00:08:45.803101",
     "exception": false,
     "start_time": "2021-11-09T00:08:44.865670",
     "status": "completed"
    },
    "tags": []
   },
   "outputs": [
    {
     "data": {
      "text/plain": [
       "<AxesSubplot: >"
      ]
     },
     "execution_count": 4,
     "metadata": {},
     "output_type": "execute_result"
    },
    {
     "data": {
      "image/png": "[encoded data removed]",
      "text/plain": [
       "<Figure size 800x800 with 1 Axes>"
      ]
     },
     "metadata": {},
     "output_type": "display_data"
    }
   ],
   "source": [
    "# Create a map\n",
    "ax = regions.plot(figsize=(8,8), color='whitesmoke', linestyle=':', edgecolor='black')\n",
    "facilities.to_crs(epsg=32630).plot(markersize=1, ax=ax)"
   ]
  },
  {
   "cell_type": "markdown",
   "id": "2982170d",
   "metadata": {
    "papermill": {
     "duration": 0.016031,
     "end_time": "2021-11-09T00:08:45.835640",
     "exception": false,
     "start_time": "2021-11-09T00:08:45.819609",
     "status": "completed"
    },
    "tags": []
   },
   "source": [
    "The `to_crs()` method modifies only the \"geometry\" column: all other columns are left as-is."
   ]
  },
  {
   "cell_type": "code",
   "execution_count": 5,
   "id": "b9c3f713",
   "metadata": {
    "execution": {
     "iopub.execute_input": "2021-11-09T00:08:45.921961Z",
     "iopub.status.busy": "2021-11-09T00:08:45.920939Z",
     "iopub.status.idle": "2021-11-09T00:08:45.943053Z",
     "shell.execute_reply": "2021-11-09T00:08:45.942342Z"
    },
    "papermill": {
     "duration": 0.090944,
     "end_time": "2021-11-09T00:08:45.943196",
     "exception": false,
     "start_time": "2021-11-09T00:08:45.852252",
     "status": "completed"
    },
    "tags": []
   },
   "outputs": [
    {
     "data": {
      "text/html": [
       "<div>\n",
       "<style scoped>\n",
       "    .dataframe tbody tr th:only-of-type {\n",
       "        vertical-align: middle;\n",
       "    }\n",
       "\n",
       "    .dataframe tbody tr th {\n",
       "        vertical-align: top;\n",
       "    }\n",
       "\n",
       "    .dataframe thead th {\n",
       "        text-align: right;\n",
       "    }\n",
       "</style>\n",
       "<table border=\"1\" class=\"dataframe\">\n",
       "  <thead>\n",
       "    <tr style=\"text-align: right;\">\n",
       "      <th></th>\n",
       "      <th>Region</th>\n",
       "      <th>District</th>\n",
       "      <th>FacilityName</th>\n",
       "      <th>Type</th>\n",
       "      <th>Town</th>\n",
       "      <th>Ownership</th>\n",
       "      <th>Latitude</th>\n",
       "      <th>Longitude</th>\n",
       "      <th>geometry</th>\n",
       "    </tr>\n",
       "  </thead>\n",
       "  <tbody>\n",
       "    <tr>\n",
       "      <th>0</th>\n",
       "      <td>Ashanti</td>\n",
       "      <td>Offinso North</td>\n",
       "      <td>A.M.E Zion Clinic</td>\n",
       "      <td>Clinic</td>\n",
       "      <td>Afrancho</td>\n",
       "      <td>CHAG</td>\n",
       "      <td>7.40801</td>\n",
       "      <td>-1.96317</td>\n",
       "      <td>POINT (614422.662 818986.851)</td>\n",
       "    </tr>\n",
       "    <tr>\n",
       "      <th>1</th>\n",
       "      <td>Ashanti</td>\n",
       "      <td>Bekwai Municipal</td>\n",
       "      <td>Abenkyiman Clinic</td>\n",
       "      <td>Clinic</td>\n",
       "      <td>Anwiankwanta</td>\n",
       "      <td>Private</td>\n",
       "      <td>6.46312</td>\n",
       "      <td>-1.58592</td>\n",
       "      <td>POINT (656373.863 714616.547)</td>\n",
       "    </tr>\n",
       "    <tr>\n",
       "      <th>2</th>\n",
       "      <td>Ashanti</td>\n",
       "      <td>Adansi North</td>\n",
       "      <td>Aboabo Health Centre</td>\n",
       "      <td>Health Centre</td>\n",
       "      <td>Aboabo No 2</td>\n",
       "      <td>Government</td>\n",
       "      <td>6.22393</td>\n",
       "      <td>-1.34982</td>\n",
       "      <td>POINT (682573.395 688243.477)</td>\n",
       "    </tr>\n",
       "    <tr>\n",
       "      <th>3</th>\n",
       "      <td>Ashanti</td>\n",
       "      <td>Afigya-Kwabre</td>\n",
       "      <td>Aboabogya Health Centre</td>\n",
       "      <td>Health Centre</td>\n",
       "      <td>Aboabogya</td>\n",
       "      <td>Government</td>\n",
       "      <td>6.84177</td>\n",
       "      <td>-1.61098</td>\n",
       "      <td>POINT (653484.490 756478.812)</td>\n",
       "    </tr>\n",
       "    <tr>\n",
       "      <th>4</th>\n",
       "      <td>Ashanti</td>\n",
       "      <td>Kwabre</td>\n",
       "      <td>Aboaso Health Centre</td>\n",
       "      <td>Health Centre</td>\n",
       "      <td>Aboaso</td>\n",
       "      <td>Government</td>\n",
       "      <td>6.84177</td>\n",
       "      <td>-1.61098</td>\n",
       "      <td>POINT (653484.490 756478.812)</td>\n",
       "    </tr>\n",
       "  </tbody>\n",
       "</table>\n",
       "</div>"
      ],
      "text/plain": [
       "    Region          District             FacilityName           Type  \\\n",
       "0  Ashanti     Offinso North        A.M.E Zion Clinic         Clinic   \n",
       "1  Ashanti  Bekwai Municipal        Abenkyiman Clinic         Clinic   \n",
       "2  Ashanti      Adansi North     Aboabo Health Centre  Health Centre   \n",
       "3  Ashanti     Afigya-Kwabre  Aboabogya Health Centre  Health Centre   \n",
       "4  Ashanti            Kwabre     Aboaso Health Centre  Health Centre   \n",
       "\n",
       "           Town   Ownership  Latitude  Longitude  \\\n",
       "0      Afrancho        CHAG   7.40801   -1.96317   \n",
       "1  Anwiankwanta     Private   6.46312   -1.58592   \n",
       "2   Aboabo No 2  Government   6.22393   -1.34982   \n",
       "3     Aboabogya  Government   6.84177   -1.61098   \n",
       "4        Aboaso  Government   6.84177   -1.61098   \n",
       "\n",
       "                        geometry  \n",
       "0  POINT (614422.662 818986.851)  \n",
       "1  POINT (656373.863 714616.547)  \n",
       "2  POINT (682573.395 688243.477)  \n",
       "3  POINT (653484.490 756478.812)  \n",
       "4  POINT (653484.490 756478.812)  "
      ]
     },
     "execution_count": 5,
     "metadata": {},
     "output_type": "execute_result"
    }
   ],
   "source": [
    "# The \"Latitude\" and \"Longitude\" columns are unchanged\n",
    "facilities.to_crs(epsg=32630).head()"
   ]
  },
  {
   "cell_type": "markdown",
   "id": "1704645c",
   "metadata": {
    "papermill": {
     "duration": 0.016733,
     "end_time": "2021-11-09T00:08:45.977324",
     "exception": false,
     "start_time": "2021-11-09T00:08:45.960591",
     "status": "completed"
    },
    "tags": []
   },
   "source": [
    "In case the EPSG code is not available in GeoPandas, we can change the CRS with what's known as the \"proj4 string\" of the CRS.  For instance, the proj4 string to convert to latitude/longitude coordinates is as follows:\n",
    "```\n",
    "+proj=longlat +ellps=WGS84 +datum=WGS84 +no_defs\n",
    "```"
   ]
  },
  {
   "cell_type": "code",
   "execution_count": 6,
   "id": "db16a4b5",
   "metadata": {
    "execution": {
     "iopub.execute_input": "2021-11-09T00:08:46.047631Z",
     "iopub.status.busy": "2021-11-09T00:08:46.043692Z",
     "iopub.status.idle": "2021-11-09T00:08:46.479354Z",
     "shell.execute_reply": "2021-11-09T00:08:46.478633Z"
    },
    "papermill": {
     "duration": 0.485067,
     "end_time": "2021-11-09T00:08:46.479510",
     "exception": false,
     "start_time": "2021-11-09T00:08:45.994443",
     "status": "completed"
    },
    "tags": []
   },
   "outputs": [
    {
     "data": {
      "text/html": [
       "<div>\n",
       "<style scoped>\n",
       "    .dataframe tbody tr th:only-of-type {\n",
       "        vertical-align: middle;\n",
       "    }\n",
       "\n",
       "    .dataframe tbody tr th {\n",
       "        vertical-align: top;\n",
       "    }\n",
       "\n",
       "    .dataframe thead th {\n",
       "        text-align: right;\n",
       "    }\n",
       "</style>\n",
       "<table border=\"1\" class=\"dataframe\">\n",
       "  <thead>\n",
       "    <tr style=\"text-align: right;\">\n",
       "      <th></th>\n",
       "      <th>Region</th>\n",
       "      <th>geometry</th>\n",
       "    </tr>\n",
       "  </thead>\n",
       "  <tbody>\n",
       "    <tr>\n",
       "      <th>0</th>\n",
       "      <td>Ashanti</td>\n",
       "      <td>POLYGON ((-1.30985 7.62302, -1.30786 7.62198, ...</td>\n",
       "    </tr>\n",
       "    <tr>\n",
       "      <th>1</th>\n",
       "      <td>Brong Ahafo</td>\n",
       "      <td>POLYGON ((-2.54567 8.76089, -2.54473 8.76071, ...</td>\n",
       "    </tr>\n",
       "    <tr>\n",
       "      <th>2</th>\n",
       "      <td>Central</td>\n",
       "      <td>POLYGON ((-2.06723 6.29473, -2.06658 6.29420, ...</td>\n",
       "    </tr>\n",
       "    <tr>\n",
       "      <th>3</th>\n",
       "      <td>Eastern</td>\n",
       "      <td>POLYGON ((-0.21751 7.21009, -0.21747 7.20993, ...</td>\n",
       "    </tr>\n",
       "    <tr>\n",
       "      <th>4</th>\n",
       "      <td>Greater Accra</td>\n",
       "      <td>POLYGON ((0.23456 6.10986, 0.23484 6.10974, 0....</td>\n",
       "    </tr>\n",
       "  </tbody>\n",
       "</table>\n",
       "</div>"
      ],
      "text/plain": [
       "          Region                                           geometry\n",
       "0        Ashanti  POLYGON ((-1.30985 7.62302, -1.30786 7.62198, ...\n",
       "1    Brong Ahafo  POLYGON ((-2.54567 8.76089, -2.54473 8.76071, ...\n",
       "2        Central  POLYGON ((-2.06723 6.29473, -2.06658 6.29420, ...\n",
       "3        Eastern  POLYGON ((-0.21751 7.21009, -0.21747 7.20993, ...\n",
       "4  Greater Accra  POLYGON ((0.23456 6.10986, 0.23484 6.10974, 0...."
      ]
     },
     "execution_count": 6,
     "metadata": {},
     "output_type": "execute_result"
    }
   ],
   "source": [
    "# Change the CRS to EPSG 4326\n",
    "regions.to_crs(\"+proj=longlat +ellps=WGS84 +datum=WGS84 +no_defs\").head()"
   ]
  },
  {
   "cell_type": "markdown",
   "id": "9bfa8bfc",
   "metadata": {
    "papermill": {
     "duration": 0.018404,
     "end_time": "2021-11-09T00:08:46.516980",
     "exception": false,
     "start_time": "2021-11-09T00:08:46.498576",
     "status": "completed"
    },
    "tags": []
   },
   "source": [
    "# Attributes of geometric objects\n",
    "\n",
    "As you learned in the first tutorial, for an arbitrary GeoDataFrame, the type in the \"geometry\" column depends on what we are trying to show: for instance, we might use:\n",
    "- a Point for the epicenter of an earthquake, \n",
    "- a LineString for a street, or \n",
    "- a Polygon to show country boundaries.\n",
    "\n",
    "All three types of geometric objects have built-in attributes that you can use to quickly analyze the dataset.  For instance, you can get the x- and y-coordinates of a Point from the `x` and `y` attributes, respectively."
   ]
  },
  {
   "cell_type": "code",
   "execution_count": 7,
   "id": "3627a4b0",
   "metadata": {
    "execution": {
     "iopub.execute_input": "2021-11-09T00:08:46.561400Z",
     "iopub.status.busy": "2021-11-09T00:08:46.560496Z",
     "iopub.status.idle": "2021-11-09T00:08:46.564669Z",
     "shell.execute_reply": "2021-11-09T00:08:46.564038Z"
    },
    "papermill": {
     "duration": 0.02966,
     "end_time": "2021-11-09T00:08:46.564809",
     "exception": false,
     "start_time": "2021-11-09T00:08:46.535149",
     "status": "completed"
    },
    "tags": []
   },
   "outputs": [
    {
     "data": {
      "text/plain": [
       "0   -1.96317\n",
       "1   -1.58592\n",
       "2   -1.34982\n",
       "3   -1.61098\n",
       "4   -1.61098\n",
       "dtype: float64"
      ]
     },
     "execution_count": 7,
     "metadata": {},
     "output_type": "execute_result"
    }
   ],
   "source": [
    "# Get the x-coordinate of each point\n",
    "facilities.geometry.head().x"
   ]
  },
  {
   "cell_type": "markdown",
   "id": "dca9de0c",
   "metadata": {
    "papermill": {
     "duration": 0.017984,
     "end_time": "2021-11-09T00:08:46.601209",
     "exception": false,
     "start_time": "2021-11-09T00:08:46.583225",
     "status": "completed"
    },
    "tags": []
   },
   "source": [
    "And, you can get the length of a LineString from the `length` attribute.  \n",
    "\n",
    "Or, you can get the area of a Polygon from the `area` attribute."
   ]
  },
  {
   "cell_type": "code",
   "execution_count": 8,
   "id": "b54e0a28",
   "metadata": {
    "execution": {
     "iopub.execute_input": "2021-11-09T00:08:46.645437Z",
     "iopub.status.busy": "2021-11-09T00:08:46.644416Z",
     "iopub.status.idle": "2021-11-09T00:08:47.164633Z",
     "shell.execute_reply": "2021-11-09T00:08:47.164054Z"
    },
    "papermill": {
     "duration": 0.544709,
     "end_time": "2021-11-09T00:08:47.164777",
     "exception": false,
     "start_time": "2021-11-09T00:08:46.620068",
     "status": "completed"
    },
    "tags": []
   },
   "outputs": [
    {
     "name": "stdout",
     "output_type": "stream",
     "text": [
      "Area of Ghana: 239584.5760055668 square kilometers\n",
      "CRS: epsg:32630\n"
     ]
    },
    {
     "data": {
      "text/html": [
       "<div>\n",
       "<style scoped>\n",
       "    .dataframe tbody tr th:only-of-type {\n",
       "        vertical-align: middle;\n",
       "    }\n",
       "\n",
       "    .dataframe tbody tr th {\n",
       "        vertical-align: top;\n",
       "    }\n",
       "\n",
       "    .dataframe thead th {\n",
       "        text-align: right;\n",
       "    }\n",
       "</style>\n",
       "<table border=\"1\" class=\"dataframe\">\n",
       "  <thead>\n",
       "    <tr style=\"text-align: right;\">\n",
       "      <th></th>\n",
       "      <th>Region</th>\n",
       "      <th>geometry</th>\n",
       "      <th>AREA</th>\n",
       "    </tr>\n",
       "  </thead>\n",
       "  <tbody>\n",
       "    <tr>\n",
       "      <th>0</th>\n",
       "      <td>Ashanti</td>\n",
       "      <td>POLYGON ((686446.075 842986.894, 686666.193 84...</td>\n",
       "      <td>24379.017777</td>\n",
       "    </tr>\n",
       "    <tr>\n",
       "      <th>1</th>\n",
       "      <td>Brong Ahafo</td>\n",
       "      <td>POLYGON ((549970.457 968447.094, 550073.003 96...</td>\n",
       "      <td>40098.168231</td>\n",
       "    </tr>\n",
       "    <tr>\n",
       "      <th>2</th>\n",
       "      <td>Central</td>\n",
       "      <td>POLYGON ((603176.584 695877.238, 603248.424 69...</td>\n",
       "      <td>9665.626760</td>\n",
       "    </tr>\n",
       "    <tr>\n",
       "      <th>3</th>\n",
       "      <td>Eastern</td>\n",
       "      <td>POLYGON ((807307.254 797910.553, 807311.908 79...</td>\n",
       "      <td>18987.625847</td>\n",
       "    </tr>\n",
       "    <tr>\n",
       "      <th>4</th>\n",
       "      <td>Greater Accra</td>\n",
       "      <td>POLYGON ((858081.638 676424.913, 858113.115 67...</td>\n",
       "      <td>3706.511145</td>\n",
       "    </tr>\n",
       "  </tbody>\n",
       "</table>\n",
       "</div>"
      ],
      "text/plain": [
       "          Region                                           geometry  \\\n",
       "0        Ashanti  POLYGON ((686446.075 842986.894, 686666.193 84...   \n",
       "1    Brong Ahafo  POLYGON ((549970.457 968447.094, 550073.003 96...   \n",
       "2        Central  POLYGON ((603176.584 695877.238, 603248.424 69...   \n",
       "3        Eastern  POLYGON ((807307.254 797910.553, 807311.908 79...   \n",
       "4  Greater Accra  POLYGON ((858081.638 676424.913, 858113.115 67...   \n",
       "\n",
       "           AREA  \n",
       "0  24379.017777  \n",
       "1  40098.168231  \n",
       "2   9665.626760  \n",
       "3  18987.625847  \n",
       "4   3706.511145  "
      ]
     },
     "execution_count": 8,
     "metadata": {},
     "output_type": "execute_result"
    }
   ],
   "source": [
    "# Calculate the area (in square meters) of each polygon in the GeoDataFrame \n",
    "regions.loc[:, \"AREA\"] = regions.geometry.area / 10**6\n",
    "\n",
    "print(\"Area of Ghana: {} square kilometers\".format(regions.AREA.sum()))\n",
    "print(\"CRS:\", regions.crs)\n",
    "regions.head()"
   ]
  },
  {
   "cell_type": "markdown",
   "id": "9fc665d6",
   "metadata": {
    "papermill": {
     "duration": 0.018517,
     "end_time": "2021-11-09T00:08:47.202359",
     "exception": false,
     "start_time": "2021-11-09T00:08:47.183842",
     "status": "completed"
    },
    "tags": []
   },
   "source": [
    "In the code cell above, since the CRS of the `regions` GeoDataFrame is set to EPSG 32630 (a \"Mercator\" projection), the area calculation is slightly less accurate than if we had used an equal-area projection like \"Africa Albers Equal Area Conic\".\n",
    "\n",
    "But this yields the area of Ghana as approximately 239585 square kilometers, which is not too far off from [the correct answer](https://www.google.com/search?q=area+of+ghana)."
   ]
  },
  {
   "cell_type": "markdown",
   "id": "fbf71296",
   "metadata": {
    "papermill": {
     "duration": 0.018693,
     "end_time": "2021-11-09T00:08:47.239987",
     "exception": false,
     "start_time": "2021-11-09T00:08:47.221294",
     "status": "completed"
    },
    "tags": []
   },
   "source": [
    "# Your turn\n",
    "\n",
    "Use what you've learned to **[track bird migration to South America](https://www.kaggle.com/kernels/fork/5832146)**."
   ]
  },
  {
   "cell_type": "markdown",
   "id": "c3831bd9",
   "metadata": {
    "papermill": {
     "duration": 0.018765,
     "end_time": "2021-11-09T00:08:47.278172",
     "exception": false,
     "start_time": "2021-11-09T00:08:47.259407",
     "status": "completed"
    },
    "tags": []
   },
   "source": [
    "---\n",
    "\n",
    "\n",
    "\n",
    "\n",
    "*Have questions or comments? Visit the [course discussion forum](https://www.kaggle.com/learn/geospatial-analysis/discussion) to chat with other learners.*"
   ]
  }
 ],
 "metadata": {
  "kernelspec": {
   "display_name": "base",
   "language": "python",
   "name": "python3"
  },
  "language_info": {
   "codemirror_mode": {
    "name": "ipython",
    "version": 3
   },
   "file_extension": ".py",
   "mimetype": "text/x-python",
   "name": "python",
   "nbconvert_exporter": "python",
   "pygments_lexer": "ipython3",
   "version": "3.9.16"
  },
  "papermill": {
   "default_parameters": {},
   "duration": 14.314963,
   "end_time": "2021-11-09T00:08:47.908066",
   "environment_variables": {},
   "exception": null,
   "input_path": "__notebook__.ipynb",
   "output_path": "__notebook__.ipynb",
   "parameters": {},
   "start_time": "2021-11-09T00:08:33.593103",
   "version": "2.3.3"
  },
  "vscode": {
   "interpreter": {
    "hash": "3cfd106f785ae1e288da74ae733f9b47f8a2699db986927140be0bc196406f4c"
   }
  }
 },
 "nbformat": 4,
 "nbformat_minor": 5
}
